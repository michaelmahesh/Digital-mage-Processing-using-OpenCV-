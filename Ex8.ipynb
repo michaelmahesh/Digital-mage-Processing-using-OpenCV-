{
 "cells": [
  {
   "cell_type": "code",
   "execution_count": 1,
   "id": "08ae886c-c869-48f3-aeff-818afadbb65f",
   "metadata": {},
   "outputs": [],
   "source": [
    "import cv2\n",
    "import numpy as np\n",
    "import matplotlib.pyplot as plt"
   ]
  },
  {
   "cell_type": "code",
   "execution_count": 2,
   "id": "a4a575dc-e7a7-4ef7-99d2-fa4d25f0a478",
   "metadata": {},
   "outputs": [],
   "source": [
    "# Step 2: Read the image and convert to grayscale\n",
    "image = cv2.imread('Qn8_thresholding.tif')  # Replace with your image file path\n",
    "gray_image = cv2.cvtColor(image, cv2.COLOR_BGR2GRAY)  # Convert to grayscale\n"
   ]
  },
  {
   "cell_type": "code",
   "execution_count": null,
   "id": "1021e059-eadf-44b7-9efa-083fef7f5d24",
   "metadata": {},
   "outputs": [],
   "source": [
    "# Original Image\n",
    "plt.subplot(2, 2, 1)\n",
    "plt.imshow(cv2.cvtColor(image, cv2.COLOR_BGR2RGB))  # Convert from BGR to RGB for display\n",
    "plt.title(\"Original Image\")\n",
    "plt.axis('off')"
   ]
  },
  {
   "cell_type": "code",
   "execution_count": 3,
   "id": "54af1d71-305b-470e-b3ab-9201ba0bf34f",
   "metadata": {},
   "outputs": [],
   "source": [
    "# Step 3: Use Global Thresholding to segment the image\n",
    "# Apply global thresholding with a threshold value of 127\n",
    "_, global_thresholded = cv2.threshold(gray_image, 127, 255, cv2.THRESH_BINARY)"
   ]
  },
  {
   "cell_type": "code",
   "execution_count": 4,
   "id": "e3456b40-ecdb-4ceb-9a3c-7e41d158b5de",
   "metadata": {},
   "outputs": [],
   "source": [
    "# Step 4: Use Adaptive Thresholding to segment the image\n",
    "# Apply adaptive thresholding using Gaussian method\n",
    "adaptive_thresholded = cv2.adaptiveThreshold(gray_image, 255, cv2.ADAPTIVE_THRESH_GAUSSIAN_C, cv2.THRESH_BINARY, 11, 2)\n"
   ]
  },
  {
   "cell_type": "code",
   "execution_count": 5,
   "id": "226eb06d-9a49-44b0-ae71-90c9313aedfc",
   "metadata": {},
   "outputs": [],
   "source": [
    "# Step 5: Use Otsu's method to segment the image\n",
    "# Apply Otsu's method for optimal thresholding\n",
    "_, otsu_thresholded = cv2.threshold(gray_image, 0, 255, cv2.THRESH_BINARY + cv2.THRESH_OTSU)"
   ]
  },
  {
   "cell_type": "code",
   "execution_count": null,
   "id": "d151472f-dca3-4cd4-a0cc-bbcd83e83e75",
   "metadata": {},
   "outputs": [],
   "source": [
    "\n",
    "\n",
    "\n",
    "# Global Thresholding\n",
    "plt.subplot(2, 2, 2)\n",
    "plt.imshow(global_thresholded, cmap='gray')\n",
    "plt.title(\"Global Thresholding\")\n",
    "plt.axis('off')\n",
    "\n",
    "# Adaptive Thresholding\n",
    "plt.subplot(2, 2, 3)\n",
    "plt.imshow(adaptive_thresholded, cmap='gray')\n",
    "plt.title(\"Adaptive Thresholding\")\n",
    "plt.axis('off')\n",
    "\n",
    "# Otsu's Method\n",
    "plt.subplot(2, 2, 4)\n",
    "plt.imshow(otsu_thresholded, cmap='gray')\n",
    "plt.title(\"Otsu's Method\")\n",
    "plt.axis('off')\n",
    "\n",
    "# Show the plot\n",
    "plt.tight_layout()\n",
    "plt.show()"
   ]
  }
 ],
 "metadata": {
  "kernelspec": {
   "display_name": "Python 3 (ipykernel)",
   "language": "python",
   "name": "python3"
  },
  "language_info": {
   "codemirror_mode": {
    "name": "ipython",
    "version": 3
   },
   "file_extension": ".py",
   "mimetype": "text/x-python",
   "name": "python",
   "nbconvert_exporter": "python",
   "pygments_lexer": "ipython3",
   "version": "3.12.7"
  }
 },
 "nbformat": 4,
 "nbformat_minor": 5
}
