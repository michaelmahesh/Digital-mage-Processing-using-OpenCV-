{
 "cells": [
  {
   "cell_type": "raw",
   "id": "db7e6c86-1ea8-4f6d-81a4-59e26a4b8ce9",
   "metadata": {},
   "source": [
    "Reference for Ex. 1 "
   ]
  },
  {
   "cell_type": "code",
   "execution_count": null,
   "id": "6d118aa6-d13c-45a3-9f14-024baaa89cef",
   "metadata": {},
   "outputs": [],
   "source": [
    "#Ensure that OpenCV (cv2) is installed in your environment. You can install it using pip if necessary\n",
    "!pip install opencv-python"
   ]
  },
  {
   "cell_type": "code",
   "execution_count": 1,
   "id": "d1eba4eb-4083-44ef-b515-c3934e237f81",
   "metadata": {},
   "outputs": [],
   "source": [
    "#  importing the cv2 library\n",
    "import cv2"
   ]
  },
  {
   "cell_type": "raw",
   "id": "cf82aef6-c204-4d91-9f9c-0d2b439e3d57",
   "metadata": {},
   "source": [
    "imshow() Function:\n",
    "\n",
    "## This function is used to create and display an image in a window.\n",
    "## It takes 2 arguments:\n",
    "\n",
    "1. Title: The name or title of the window.\n",
    "2. Image: The image to be displayed in the window.\n",
    "    \n",
    "waitKey(0) Function:\n",
    "    \n",
    "## This function is used to freeze the image on the window, allowing the window to stay open until a key is pressed."
   ]
  },
  {
   "cell_type": "code",
   "execution_count": 5,
   "id": "1d593a4b-a425-4ef1-823f-54787e9a198e",
   "metadata": {},
   "outputs": [],
   "source": [
    "# Display the image in a window\n",
    "cv2.imshow('Image Window', image)\n",
    "# Wait indefinitely for a key press\n",
    "cv2.waitKey(0)\n",
    "# Destroy all windows created by OpenCV\n",
    "cv2.destroyAllWindows()"
   ]
  },
  {
   "cell_type": "code",
   "execution_count": 6,
   "id": "d4529014-68f0-46b0-bd51-80a8f2579565",
   "metadata": {},
   "outputs": [
    {
     "data": {
      "text/plain": [
       "(531, 413, 3)"
      ]
     },
     "execution_count": 6,
     "metadata": {},
     "output_type": "execute_result"
    }
   ],
   "source": [
    "# find the shape   \n",
    "image.shape"
   ]
  },
  {
   "cell_type": "code",
   "execution_count": 7,
   "id": "462b9949-bb02-470e-ab27-c7a45c3721ed",
   "metadata": {},
   "outputs": [
    {
     "data": {
      "text/plain": [
       "657909"
      ]
     },
     "execution_count": 7,
     "metadata": {},
     "output_type": "execute_result"
    }
   ],
   "source": [
    "# Find the size \n",
    "image.size"
   ]
  },
  {
   "cell_type": "code",
   "execution_count": null,
   "id": "39ffe6ea-102b-4589-98cb-04bb8353c26b",
   "metadata": {},
   "outputs": [],
   "source": []
  },
  {
   "cell_type": "code",
   "execution_count": 8,
   "id": "ad7b1f93-5e0c-4ed7-ab8e-9ca977a5a99b",
   "metadata": {},
   "outputs": [],
   "source": [
    "img = cv2.imread(\"08.JPG\", cv2.IMREAD_COLOR)\n",
    "\n",
    "cv2.imshow('Image Window', img)\n",
    "cv2.waitKey(0)\n",
    "cv2.destroyAllWindows()"
   ]
  },
  {
   "cell_type": "code",
   "execution_count": 12,
   "id": "316cdb64-91f4-4e39-9efd-b3c88b6ae5e0",
   "metadata": {},
   "outputs": [],
   "source": [
    "img = cv2.imread(\"08.JPG\", 1)\n",
    "\n",
    "cv2.imshow('Image Window', img)\n",
    "cv2.waitKey(0)\n",
    "cv2.destroyAllWindows()"
   ]
  },
  {
   "cell_type": "code",
   "execution_count": 10,
   "id": "c31a6ff4-3227-40c1-9f53-b3445c5b0219",
   "metadata": {},
   "outputs": [],
   "source": [
    "img = cv2.imread(\"08.JPG\", cv2.IMREAD_GRAYSCALE)\n",
    "\n",
    "cv2.imshow('Image Window', img)\n",
    "cv2.waitKey(0)\n",
    "cv2.destroyAllWindows()"
   ]
  },
  {
   "cell_type": "code",
   "execution_count": 11,
   "id": "576a66c2-eeb5-4e33-aa5b-92be4c55fefc",
   "metadata": {},
   "outputs": [],
   "source": [
    "img = cv2.imread(\"08.JPG\", 0)\n",
    "\n",
    "cv2.imshow('Image Window', img)\n",
    "cv2.waitKey(0)\n",
    "cv2.destroyAllWindows()"
   ]
  },
  {
   "cell_type": "code",
   "execution_count": 26,
   "id": "78bd5098-1d58-4d0d-ad9c-e160f36e7eb5",
   "metadata": {},
   "outputs": [],
   "source": [
    "# Convert to grayscale\n",
    "img = cv2.cvtColor(image, cv2.COLOR_BGR2GRAY)\n",
    "\n",
    "# Display the grayscale image\n",
    "cv2.imshow('Image Window', img)\n",
    "cv2.waitKey(0)\n",
    "cv2.destroyAllWindows()\n"
   ]
  },
  {
   "cell_type": "code",
   "execution_count": 12,
   "id": "dec20173-41e9-4174-9c34-53591cf16606",
   "metadata": {},
   "outputs": [],
   "source": [
    "# Convert to grayscale\n",
    "img = cv2.cvtColor(image, cv2.COLOR_BGR2GRAY)\n",
    "\n",
    "# Display the grayscale image\n",
    "cv2.imshow('Image Window', img)\n",
    "cv2.waitKey(0)\n",
    "cv2.destroyAllWindows()\n"
   ]
  },
  {
   "cell_type": "code",
   "execution_count": 13,
   "id": "34049251-0ef0-4a46-a675-8d348470a5f0",
   "metadata": {},
   "outputs": [],
   "source": [
    "# Convert to HSV color space\n",
    "img_hsv = cv2.cvtColor(image, cv2.COLOR_BGR2HSV)\n",
    "\n",
    "# Display the HSV image\n",
    "cv2.imshow('Image Window (HSV)', img_hsv)\n",
    "cv2.waitKey(0)\n",
    "cv2.destroyAllWindows()"
   ]
  },
  {
   "cell_type": "raw",
   "id": "13ae258c-3743-4016-8f83-f6d05e33cbc4",
   "metadata": {},
   "source": [
    "Bitwise_not()\n",
    "\n",
    "## The bitwise_not() function inverts(Flip) the pixel values of an image.\n",
    "## All pixel values greater than zero are set to zero.\n",
    "## All pixel values that are equal to zero are set to 255.\n",
    "## This operation creates the inverse (or negative) of the image."
   ]
  },
  {
   "cell_type": "code",
   "execution_count": 14,
   "id": "4c417705-a1bd-4b93-811d-26d2fcb650fe",
   "metadata": {},
   "outputs": [],
   "source": [
    "res_img=cv2.bitwise_not(img)\n",
    "\n",
    "# Display the  image\n",
    "cv2.imshow('Image Window', res_img)\n",
    "cv2.waitKey(0)\n",
    "cv2.destroyAllWindows()"
   ]
  },
  {
   "cell_type": "raw",
   "id": "c8e65e73-5424-4fe5-b3aa-5b500132a9ce",
   "metadata": {},
   "source": [
    "add() Method:\n",
    "\n",
    "## This method is used to add two images together.\n",
    "## It takes two arguments (the two images).\n",
    "## A condition for add() is that both images must have the same dimensions.\n",
    "\n",
    "addWeighted() Method:\n",
    "\n",
    "## This method adds two images with a specified transparency (blending).\n",
    "## It takes 5 arguments:\n",
    "arg 1: Image 1.\n",
    "arg 2: Transparency level of image 1 (a value between 0 and 1).\n",
    "arg 3: Image 2.\n",
    "arg 4: Transparency level of image 2 (a value between 0 and 1).\n",
    "arg 5: Gamma level (controls brightness).\n"
   ]
  },
  {
   "cell_type": "code",
   "execution_count": 1,
   "id": "7210644c-7991-4c58-88d2-edb803ca8031",
   "metadata": {},
   "outputs": [],
   "source": [
    "# add() Method:\n",
    "\n",
    "img_1 = cv2.imread(\"08.JPG\")\n",
    "img_2 = cv2.imread(\"08-Copy1.JPG\")\n",
    "\n",
    "res_image = cv2.add(img_1,img_2)\n",
    "\n",
    "# Display the image\n",
    "cv2.imshow('Image Window', res_image)\n",
    "cv2.waitKey(0)\n",
    "cv2.destroyAllWindows()"
   ]
  },
  {
   "cell_type": "code",
   "execution_count": 3,
   "id": "1ce489c6-8070-414b-9b99-ab5d8d439ead",
   "metadata": {},
   "outputs": [],
   "source": [
    "# addWeighted() Method:\n",
    "\n",
    "img_1 = cv2.imread(\"08.JPG\")\n",
    "img_2 = cv2.imread(\"08-Copy1.JPG\")\n",
    "\n",
    "res_image = cv2.addWeighted(img_1,0.2,img_2,0.5,10)\n",
    "\n",
    "# Display the image\n",
    "cv2.imshow('Image Window', res_image)\n",
    "cv2.waitKey(0)\n",
    "cv2.destroyAllWindows()"
   ]
  },
  {
   "cell_type": "raw",
   "id": "49b667be-628f-4492-a383-5d2d54f1e377",
   "metadata": {},
   "source": [
    "rectangle() Function:\n",
    "\n",
    "## This function is used to draw a rectangle on an image.\n",
    "## It takes 5 arguments:\n",
    "arg 1: The image on which to draw.\n",
    "arg 2: Starting point (x, y) coordinates of the rectangle.\n",
    "arg 3: Ending point (x, y) coordinates of the rectangle.\n",
    "arg 4: Color in (R, G, B) format, with each value between 0 and 255.\n",
    "arg 5: Thickness of the rectangle's outline."
   ]
  },
  {
   "cell_type": "code",
   "execution_count": 9,
   "id": "33179d49-cd79-4ced-976b-16a8dfc0c482",
   "metadata": {},
   "outputs": [],
   "source": [
    "img = cv2.imread(\"08.JPG\")\n",
    "\n",
    "start=(0,0)\n",
    "stop=(409,529)\n",
    "color=(0,255,255)\n",
    "thickness=10\n",
    "\n",
    "res_img=cv2.rectangle(img,start,stop,color,thickness)\n",
    "\n",
    "# Display the image\n",
    "cv2.imshow('Image Window', res_img)\n",
    "cv2.waitKey(0)\n",
    "cv2.destroyAllWindows()"
   ]
  },
  {
   "cell_type": "raw",
   "id": "a07d3b9d-953a-481c-aabb-5eccbddafe77",
   "metadata": {},
   "source": [
    "circle() Function:\n",
    "\n",
    "## This function is used to draw a circle on an image.\n",
    "## It takes 5 arguments:\n",
    "arg 1: img - The target image.\n",
    "arg 2: center_coordinates - (x, y) coordinates of the circle's center.\n",
    "arg 3: radius - The radius of the circle.\n",
    "arg 4: color - Circle color in (R, G, B), with each value between 0 and 255.\n",
    "arg 5: thickness - The thickness of the circle's border in pixels. If set to -1, the circle will be filled with the specified color."
   ]
  },
  {
   "cell_type": "code",
   "execution_count": 2,
   "id": "25a5dbe0-a249-40d1-a907-da1ebeeaeb9a",
   "metadata": {},
   "outputs": [],
   "source": [
    "img = cv2.imread(\"08.JPG\")\n",
    "\n",
    "res=cv2.circle(img,(230,225),150,(255,0,0),10)\n",
    "\n",
    "# Display the image\n",
    "cv2.imshow('Image Window', res)\n",
    "cv2.waitKey(0)\n",
    "cv2.destroyAllWindows()"
   ]
  },
  {
   "cell_type": "raw",
   "id": "ae2a518a-7367-4201-a785-2c8cbc5f3bbe",
   "metadata": {},
   "source": [
    "cv2.line() Function:\n",
    "\n",
    "## This function is used to draw a line on a specified image.\n",
    "## It takes 5 arguments:\n",
    "\n",
    "arg 1: image - The target image on which the line will be drawn.\n",
    "arg 2: start_point - (x, y) coordinates of the starting point of the line.\n",
    "arg 3: stop_point - (x, y) coordinates of the ending point of the line.\n",
    "arg 4: color - Line color in (R, G, B), with each value between 0 and 255.\n",
    "arg 5: thickness - The thickness of the line."
   ]
  },
  {
   "cell_type": "code",
   "execution_count": 10,
   "id": "039a998c-de3c-441b-92d1-334f204f37a1",
   "metadata": {},
   "outputs": [],
   "source": [
    "\n",
    "img = cv2.imread(\"08.JPG\")\n",
    "res = cv2.line(img,(100,100),(500,500),(200,100,205),10)\n",
    "\n",
    "# Display the image\n",
    "cv2.imshow('Image Window', res)\n",
    "cv2.waitKey(0)\n",
    "cv2.destroyAllWindows()"
   ]
  },
  {
   "cell_type": "raw",
   "id": "ea4226de-b073-436f-9de6-dc465ecc52e8",
   "metadata": {},
   "source": [
    "Concatenate Function:\n",
    "\n",
    "## This function is used to concatenate (add/join) two images.\n",
    "## There are two ways to concatenate images:\n",
    "\n",
    "1. Horizontally: Using hconcat([image1, image2]) to place images side by side.\n",
    "\n",
    "2. Vertically: Using vconcat([image1, image2]) to stack images on top of each other.\n"
   ]
  },
  {
   "cell_type": "code",
   "execution_count": 11,
   "id": "8ff3c29f-6764-4201-86a0-8c90c0cf802c",
   "metadata": {},
   "outputs": [],
   "source": [
    "# Horizontally\n",
    "\n",
    "img1 = cv2.imread(\"08.JPG\")\n",
    "img2 = cv2.imread(\"08-Copy1.JPG\")\n",
    "\n",
    "himage=cv2.hconcat([img1,img2])\n",
    "\n",
    "# Display the image\n",
    "cv2.imshow('Image Window', himage)\n",
    "cv2.waitKey(0)\n",
    "cv2.destroyAllWindows()\n",
    "\n"
   ]
  },
  {
   "cell_type": "code",
   "execution_count": 62,
   "id": "e2770f70-95e8-4232-bf1c-727162638d18",
   "metadata": {},
   "outputs": [],
   "source": [
    "# Vertically\n",
    "\n",
    "img1 = cv2.imread(\"08.JPG\")\n",
    "img2 = cv2.imread(\"08-Copy1.JPG\")\n",
    "\n",
    "vimage=cv2.vconcat([img1,img2])\n",
    "\n",
    "# Display the HSV image\n",
    "cv2.imshow('Image Window', vimage)\n",
    "cv2.waitKey(0)\n",
    "cv2.destroyAllWindows()"
   ]
  },
  {
   "cell_type": "raw",
   "id": "74a70254-6957-46fe-8518-cf7fa4b28220",
   "metadata": {},
   "source": [
    "Image Properties \n",
    "1. shape \n",
    "image.shape - give shape of an image , (width, high, channels) \n",
    "channels - clour channels \n",
    "if it is RGB then it is 3 channales ( 1 red, 1, green, 1 blue )\n",
    "any color image can have upto 56 channels \n",
    "for gray scale image - it having 3 but all are same ie r=g=r\n",
    "\n",
    "2. Size\n",
    "image.size -- it wil gives total number of pixel in th image \n"
   ]
  },
  {
   "cell_type": "raw",
   "id": "27ca53c8-d243-4ce3-9447-e1c9c1fc2f95",
   "metadata": {},
   "source": [
    "Image Clipping (Cropping):\n",
    "\n",
    "## To crop an image, you can slice the height and width.\n",
    "## Cropping an image involves selecting a region of interest by slicing.\n",
    "\n",
    "Example of slicing:\n",
    "\n",
    "1. Basic slicing: rec_image = image[slice_height, slice_width]\n",
    "\n",
    "2. Slicing with start and stop values: res_image = image[start_height:stop_height, start_width:stop_width]"
   ]
  },
  {
   "cell_type": "code",
   "execution_count": null,
   "id": "1b5be023-512a-4069-9fb4-17f82d7c538a",
   "metadata": {},
   "outputs": [],
   "source": [
    "# chipping \n",
    "\n",
    "img1 = cv2.imread(\"08.JPG\")\n",
    "\n",
    "rec_image=image[100:500,100:1000]\n",
    "\n",
    "# Display the HSV image\n",
    "cv2.imshow('Image Window', rec_image)\n",
    "cv2.waitKey(0)\n",
    "cv2.destroyAllWindows()"
   ]
  },
  {
   "cell_type": "raw",
   "id": "6d360fd3-e5e4-4f81-8574-d99b22b30d65",
   "metadata": {},
   "source": [
    "Image Rotation:\n",
    "\n",
    "## Predefined Rotation Angles:\n",
    "\n",
    "1. Rotate 90 Degrees Counterclockwise: rotate(img, cv2.ROTATE_90_COUNTERCLOCKWISE)\n",
    "2. Rotate 180 Degrees: rotate(img, cv2.ROTATE_180)\n",
    "3. Rotate 90 Degrees Clockwise: rotate(img, cv2.ROTATE_90_CLOCKWISE)\n",
    "\n",
    "## User-Defined Angle:\n",
    "\n",
    "Step 1: Import the cv2 library.\n",
    "Step 2: Load the image.\n",
    "Step 3: Find the center coordinates of the image.\n",
    "        Get the image dimensions: h, w = image.shape[:2]\n",
    "        h: Height\n",
    "        w: Width\n",
    "        Calculate the center: (width / 2, height / 2)\n",
    "Step 4: Get the rotation matrix.\n",
    "\n",
    "Use cv2.getRotationMatrix2D(center, angle, scale)\n",
    "\n",
    "         center: Center coordinates of the image.\n",
    "         angle: Rotation angle in degrees.\n",
    "         scale: Scale factor (usually 1.0 for no scaling).\n",
    "\n",
    "Step 5: Apply the rotation.\n",
    "\n",
    "Use cv2.warpAffine(img, rotation, (width, height)) to get the rotated image."
   ]
  },
  {
   "cell_type": "code",
   "execution_count": 68,
   "id": "68688419-8bd3-4692-9d3f-f7b07f47146f",
   "metadata": {},
   "outputs": [],
   "source": [
    "\n",
    "res=cv2.rotate(img,cv2.ROTATE_90_CLOCKWISE)\n",
    "\n",
    "# Display the image\n",
    "cv2.imshow('Image Window', res)\n",
    "cv2.waitKey(0)\n",
    "cv2.destroyAllWindows()"
   ]
  },
  {
   "cell_type": "code",
   "execution_count": 69,
   "id": "27407d29-94a3-470e-9757-769c82158ca3",
   "metadata": {},
   "outputs": [],
   "source": [
    "res=cv2.rotate(img,cv2.ROTATE_90_COUNTERCLOCKWISE)\n",
    "\n",
    "# Display the image\n",
    "cv2.imshow('Image Window', res)\n",
    "cv2.waitKey(0)\n",
    "cv2.destroyAllWindows()"
   ]
  },
  {
   "cell_type": "code",
   "execution_count": 70,
   "id": "7ada839a-564e-4bc8-a291-45fecd3d0907",
   "metadata": {},
   "outputs": [],
   "source": [
    "res=cv2.rotate(img,cv2.ROTATE_180)\n",
    "\n",
    "# Display the image\n",
    "cv2.imshow('Image Window', res)\n",
    "cv2.waitKey(0)\n",
    "cv2.destroyAllWindows()"
   ]
  },
  {
   "cell_type": "code",
   "execution_count": 71,
   "id": "4a068d27-06e1-4dad-98f9-228c2d282655",
   "metadata": {},
   "outputs": [],
   "source": [
    "res=cv2.rotate(img,cv2.ROTATE_90_CLOCKWISE)\n",
    "\n",
    "# Display the HSV image\n",
    "cv2.imshow('Image Window', res)\n",
    "cv2.waitKey(0)\n",
    "cv2.destroyAllWindows()"
   ]
  },
  {
   "cell_type": "code",
   "execution_count": null,
   "id": "f2479841-8a0e-4ddb-9df5-33872c980246",
   "metadata": {},
   "outputs": [],
   "source": [
    "# User defined \n",
    "\n",
    "h,w = image.shape[0:2] \n",
    "center=(w/2,h/2)\n",
    "rot = cv2.getRotationMatrix2D(center,135,1)\n",
    "res=cv2.warpAffine(img,rot,(531, 413))\n",
    "\n",
    "cv2.imshow('Image Window', res)\n",
    "cv2.waitKey(0)\n",
    "cv2.destroyAllWindows()\n"
   ]
  }
 ],
 "metadata": {
  "kernelspec": {
   "display_name": "Python 3 (ipykernel)",
   "language": "python",
   "name": "python3"
  },
  "language_info": {
   "codemirror_mode": {
    "name": "ipython",
    "version": 3
   },
   "file_extension": ".py",
   "mimetype": "text/x-python",
   "name": "python",
   "nbconvert_exporter": "python",
   "pygments_lexer": "ipython3",
   "version": "3.12.4"
  }
 },
 "nbformat": 4,
 "nbformat_minor": 5
}
